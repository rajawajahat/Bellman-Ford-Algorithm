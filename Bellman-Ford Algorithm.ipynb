{
 "cells": [
  {
   "cell_type": "code",
   "execution_count": 45,
   "metadata": {},
   "outputs": [],
   "source": [
    "graph1 = {\n",
    "        'a': {'b': -1, 'c':  4},\n",
    "        'b': {'c':  3, 'd':  2, 'e':  2},\n",
    "        'c': {},\n",
    "        'd': {'b':  1, 'c':  5},\n",
    "        'e': {'d': -3}\n",
    "    }"
   ]
  },
  {
   "cell_type": "code",
   "execution_count": 50,
   "metadata": {},
   "outputs": [],
   "source": [
    "graph2 = {\n",
    "    \"router1\" : {\"router3\": 3},\n",
    "    \"router2\" : {\"router1\": 2},\n",
    "    \"router3\" : {\"router2\" : 7, \"router4\": 1},\n",
    "    \"router4\" : {},\n",
    "    \"router5\" : {\"router1\": 6}\n",
    "}"
   ]
  },
  {
   "cell_type": "code",
   "execution_count": 51,
   "metadata": {},
   "outputs": [],
   "source": [
    "def bellman_ford(topology, source):\n",
    "    \"\"\"testing\"\"\"\n",
    "    cost = dict()\n",
    "    predecessor = dict()\n",
    "    \n",
    "    for node in topology:\n",
    "        cost[node] = float(\"inf\")\n",
    "        predecessor[node] = None\n",
    "    cost[source] = 0\n",
    "    # print(cost, predecessor)\n",
    "    \n",
    "    for _ in range(len(topology) - 1):\n",
    "        for node in topology:\n",
    "            for neighbour in topology[node]:\n",
    "                # If the distance between the node and the neighbour is lower than the current, store it\n",
    "                if cost[neighbour] > cost[node] + topology[node][neighbour]:\n",
    "                    cost[neighbour], predecessor[neighbour] = cost[node] + topology[node][neighbour], node\n",
    "\n",
    "    # Check for negative weight cycles\n",
    "    for node in topology:\n",
    "        for neighbour in topology[node]:\n",
    "            assert cost[neighbour] <= cost[node] + topology[node][neighbour]\n",
    " \n",
    "    return cost, predecessor"
   ]
  },
  {
   "cell_type": "code",
   "execution_count": 54,
   "metadata": {},
   "outputs": [
    {
     "name": "stdout",
     "output_type": "stream",
     "text": [
      "({'a': 0, 'b': -1, 'c': 2, 'd': -2, 'e': 1}, {'a': None, 'b': 'a', 'c': 'b', 'd': 'e', 'e': 'b'})\n"
     ]
    }
   ],
   "source": [
    "print(bellman_ford(graph1, \"a\"))"
   ]
  },
  {
   "cell_type": "code",
   "execution_count": 52,
   "metadata": {},
   "outputs": [
    {
     "name": "stdout",
     "output_type": "stream",
     "text": [
      "({'a': inf, 'b': -2, 'c': 1, 'd': -3, 'e': 0}, {'a': None, 'b': 'd', 'c': 'b', 'd': 'e', 'e': None})\n"
     ]
    }
   ],
   "source": [
    "print(bellman_ford(graph1, \"e\"))"
   ]
  },
  {
   "cell_type": "code",
   "execution_count": 53,
   "metadata": {},
   "outputs": [
    {
     "name": "stdout",
     "output_type": "stream",
     "text": [
      "({'router1': 0, 'router2': 10, 'router3': 3, 'router4': 4, 'router5': inf}, {'router1': None, 'router2': 'router3', 'router3': 'router1', 'router4': 'router3', 'router5': None})\n"
     ]
    }
   ],
   "source": [
    "print(bellman_ford(graph2, \"router1\"))"
   ]
  },
  {
   "cell_type": "code",
   "execution_count": 55,
   "metadata": {},
   "outputs": [
    {
     "name": "stdout",
     "output_type": "stream",
     "text": [
      "({'router1': 9, 'router2': 7, 'router3': 0, 'router4': 1, 'router5': inf}, {'router1': 'router2', 'router2': 'router3', 'router3': None, 'router4': 'router3', 'router5': None})\n"
     ]
    }
   ],
   "source": [
    "print(bellman_ford(graph2, \"router3\"))"
   ]
  },
  {
   "cell_type": "code",
   "execution_count": null,
   "metadata": {},
   "outputs": [],
   "source": []
  }
 ],
 "metadata": {
  "kernelspec": {
   "display_name": "Python 3",
   "language": "python",
   "name": "python3"
  },
  "language_info": {
   "codemirror_mode": {
    "name": "ipython",
    "version": 3
   },
   "file_extension": ".py",
   "mimetype": "text/x-python",
   "name": "python",
   "nbconvert_exporter": "python",
   "pygments_lexer": "ipython3",
   "version": "3.6.5"
  },
  "toc": {
   "base_numbering": 1,
   "nav_menu": {},
   "number_sections": true,
   "sideBar": true,
   "skip_h1_title": false,
   "title_cell": "Table of Contents",
   "title_sidebar": "Contents",
   "toc_cell": false,
   "toc_position": {},
   "toc_section_display": true,
   "toc_window_display": false
  }
 },
 "nbformat": 4,
 "nbformat_minor": 2
}
